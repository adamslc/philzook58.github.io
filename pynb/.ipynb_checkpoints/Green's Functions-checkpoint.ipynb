{
 "cells": [
  {
   "cell_type": "markdown",
   "metadata": {},
   "source": [
    "Green's Functions"
   ]
  },
  {
   "cell_type": "code",
   "execution_count": 6,
   "metadata": {},
   "outputs": [],
   "source": [
    "import numpy as np\n",
    "import matplotlib.pyplot as plt\n",
    "%matplotlib inline"
   ]
  },
  {
   "cell_type": "markdown",
   "metadata": {},
   "source": [
    "$\\nabla^2$ is the Laplacian. The one dimensional version of this is\n",
    "$\\frac{d^2}{dx^2}\\phi = 0$\n",
    "The kind of problems occur in electrostatics for example"
   ]
  },
  {
   "cell_type": "markdown",
   "metadata": {},
   "source": [
    "Problems with sources\n",
    "$\\frac{d^2}{dx^2}\\phi = \\rho$"
   ]
  },
  {
   "cell_type": "markdown",
   "metadata": {},
   "source": [
    "Problems with Parameters / Eigenvalue problems\n",
    "$(\\frac{d^2}{dx^2} -E)\\phi = 0$"
   ]
  },
  {
   "cell_type": "markdown",
   "metadata": {
    "collapsed": true
   },
   "source": [
    "$\\frac{d^2}{dx^2}\\phi \\approx \\frac{\\phi(x+dx)-2\\phi(x)+\\phi(x-dx)}{dx^2}$"
   ]
  },
  {
   "cell_type": "markdown",
   "metadata": {},
   "source": [
    "The can be written in vector form as "
   ]
  },
  {
   "cell_type": "markdown",
   "metadata": {},
   "source": [
    "$\\frac{1}{dx^2}\\begin{bmatrix}\n",
    "           1 & -2 & 1 \n",
    "\\end{bmatrix}\n",
    "\\begin{bmatrix}\n",
    "           \\phi(x+dx) \\\\ \\phi(x) \\\\ \\phi(x-dx) \n",
    "\\end{bmatrix}$"
   ]
  },
  {
   "cell_type": "markdown",
   "metadata": {},
   "source": [
    "So if we sample the entire function on a grid of spacing $dx$ we can create a huge vector\n",
    "\n",
    "$\\begin{bmatrix} \\phi(0) \\\\ \\phi(dx) \\\\ \\phi(2dx) \\\\ \\phi(3dx) \\\\ \\phi(4dx) \\\\ \\vdots \\end{bmatrix}$\n",
    "\n",
    "Which then we can derive an approximation to the second difference via a matrix operation "
   ]
  },
  {
   "cell_type": "markdown",
   "metadata": {},
   "source": [
    "So when we want to solve $\\frac{d^2}{dx^2}\\phi = \\rho$, this can be written as a matrix equation $K\\phi = \\rho$ and the solution is given by $\\psi = K^{-1}\\rho$.\n",
    "We will call this matrix and it's continuous analog Green's functions. In the continuous limit, the matrix vector product becomes an integral.\n",
    "\n",
    "$K_{ij}\\rightarrow G(x,y)$\n",
    "\n",
    "$\\sum \\rightarrow \\int$"
   ]
  },
  {
   "cell_type": "markdown",
   "metadata": {},
   "source": [
    "Now, there is subtlety in the boundary conditions. It you construct the matrix, you'll find that it isn't clear what to do at the end. The natural second derivative matrix is in fact rectangular, and hence uninvertible. If we specify fo example that $\\phi(0)=0$ and $\\phi(L)=0$ we can just lop off the first and last column of the matrix, making it rectangular and invertible. It is this fact that makes the boundary conditions an ESSENTIAL part of the Green's Function. It does not make sense without them and different boundary conditions give different green's function"
   ]
  },
  {
   "cell_type": "markdown",
   "metadata": {},
   "source": [
    "An example where this equation shows up is for a stretched string in equilbium. If we place weight on the string, it pushes it down. These weights correpond to source terms."
   ]
  },
  {
   "cell_type": "markdown",
   "metadata": {},
   "source": [
    "Perturbation theory"
   ]
  },
  {
   "cell_type": "markdown",
   "metadata": {},
   "source": [
    "The simplest equation to solve that we can use perturbation theory on is $(a+b)x = c$. The answer, by the way, is $x = \\frac{c}{a+b}$ so there is absolutely no reason to throw perturbation theory at this one. But it is illuminating I think."
   ]
  },
  {
   "cell_type": "markdown",
   "metadata": {},
   "source": [
    "$x_{n+1} = \\frac{1}{a} (c-bx_{n})$"
   ]
  },
  {
   "cell_type": "markdown",
   "metadata": {},
   "source": [
    "$x = \\frac{c}{a}(1- \\frac{b}{a} + (\\frac{b}{a})^2 - (\\frac{b}{a})^3 + \\dots)$"
   ]
  },
  {
   "cell_type": "markdown",
   "metadata": {
    "collapsed": true
   },
   "source": [
    "So a simple methodology to generate an iterative method is to take an equation and isolate the variable on one side. Then set the left side to $x_{n+1}$ and the right side to $x_{n}$. Now of course, this isn't guaranteed to be a good method or to converge even. But, IF it does converge, then you have found a solution. So just give it a try."
   ]
  },
  {
   "cell_type": "code",
   "execution_count": 15,
   "metadata": {},
   "outputs": [
    {
     "name": "stdout",
     "output_type": "stream",
     "text": [
      "[0, 0.5, 0.25, 0.375, 0.3125, 0.34375, 0.328125, 0.3359375, 0.33203125, 0.333984375, 0.3330078125]\n"
     ]
    }
   ],
   "source": [
    "def simple_solve(a,b,c, iters=10):\n",
    "    x = [0]\n",
    "    for i in range(iters):\n",
    "        x.append((c-b*x[-1])/a)\n",
    "    return x\n",
    "\n",
    "print(simple_solve(2,1,1))\n",
    "\n",
    "\n",
    "    "
   ]
  },
  {
   "cell_type": "markdown",
   "metadata": {},
   "source": [
    "A converging solution"
   ]
  },
  {
   "cell_type": "code",
   "execution_count": 14,
   "metadata": {},
   "outputs": [
    {
     "data": {
      "text/plain": [
       "[<matplotlib.lines.Line2D at 0x10f1c61d0>]"
      ]
     },
     "execution_count": 14,
     "metadata": {},
     "output_type": "execute_result"
    },
    {
     "data": {
      "image/png": "[encoded data removed]",
      "text/plain": [
       "<matplotlib.figure.Figure at 0x10f01b9b0>"
      ]
     },
     "metadata": {},
     "output_type": "display_data"
    }
   ],
   "source": [
    "plt.plot(simple_solve(2,1,1))"
   ]
  },
  {
   "cell_type": "markdown",
   "metadata": {},
   "source": [
    "An oscillatory solution"
   ]
  },
  {
   "cell_type": "code",
   "execution_count": 12,
   "metadata": {},
   "outputs": [
    {
     "data": {
      "text/plain": [
       "[<matplotlib.lines.Line2D at 0x10efee1d0>]"
      ]
     },
     "execution_count": 12,
     "metadata": {},
     "output_type": "execute_result"
    },
    {
     "data": {
      "image/png": "[encoded data removed]",
      "text/plain": [
       "<matplotlib.figure.Figure at 0x10ee225f8>"
      ]
     },
     "metadata": {},
     "output_type": "display_data"
    }
   ],
   "source": [
    "plt.plot(simple_solve(1,1,1))"
   ]
  },
  {
   "cell_type": "markdown",
   "metadata": {},
   "source": [
    "A divergent solution"
   ]
  },
  {
   "cell_type": "code",
   "execution_count": 11,
   "metadata": {},
   "outputs": [
    {
     "data": {
      "text/plain": [
       "[<matplotlib.lines.Line2D at 0x10eeef6a0>]"
      ]
     },
     "execution_count": 11,
     "metadata": {},
     "output_type": "execute_result"
    },
    {
     "data": {
      "image/png": "[encoded data removed]",
      "text/plain": [
       "<matplotlib.figure.Figure at 0x10ee1d940>"
      ]
     },
     "metadata": {},
     "output_type": "display_data"
    }
   ],
   "source": [
    "plt.plot(simple_solve(1,2,1))"
   ]
  },
  {
   "cell_type": "markdown",
   "metadata": {},
   "source": [
    "There is a really cut trick for sequences. We can use generators to hold even infinite sequences, with the acknowledgement that we'll only ever look at a finite part of them "
   ]
  },
  {
   "cell_type": "code",
   "execution_count": 35,
   "metadata": {
    "collapsed": true
   },
   "outputs": [],
   "source": [
    "def linear_terms(a,b,c):\n",
    "    x = 0\n",
    "    while True:\n",
    "        yield x\n",
    "        x = (c-b*x)/a"
   ]
  },
  {
   "cell_type": "code",
   "execution_count": 40,
   "metadata": {
    "collapsed": true
   },
   "outputs": [],
   "source": [
    "from itertools import islice, count\n",
    "import itertools as seq"
   ]
  },
  {
   "cell_type": "code",
   "execution_count": 39,
   "metadata": {},
   "outputs": [
    {
     "data": {
      "text/plain": [
       "[0,\n",
       " 0.5,\n",
       " 0.25,\n",
       " 0.375,\n",
       " 0.3125,\n",
       " 0.34375,\n",
       " 0.328125,\n",
       " 0.3359375,\n",
       " 0.33203125,\n",
       " 0.333984375,\n",
       " 0.3330078125,\n",
       " 0.33349609375,\n",
       " 0.333251953125,\n",
       " 0.3333740234375,\n",
       " 0.33331298828125,\n",
       " 0.333343505859375,\n",
       " 0.3333282470703125,\n",
       " 0.33333587646484375,\n",
       " 0.3333320617675781,\n",
       " 0.33333396911621094]"
      ]
     },
     "execution_count": 39,
     "metadata": {},
     "output_type": "execute_result"
    }
   ],
   "source": [
    "\n",
    "list(islice(linear_terms(2,1,1),20))"
   ]
  },
  {
   "cell_type": "code",
   "execution_count": 36,
   "metadata": {
    "collapsed": true
   },
   "outputs": [],
   "source": [
    "def linear_term2(a,b,c):\n",
    "    t = c/a\n",
    "    while True:\n",
    "        yield t\n",
    "        t = -t * b/a \n",
    "\n",
    "        "
   ]
  },
  {
   "cell_type": "code",
   "execution_count": 37,
   "metadata": {},
   "outputs": [
    {
     "data": {
      "text/plain": [
       "0.33333301544189453"
      ]
     },
     "execution_count": 37,
     "metadata": {},
     "output_type": "execute_result"
    }
   ],
   "source": [
    "sum(islice(linear_term2(2,1,1),20))"
   ]
  },
  {
   "cell_type": "markdown",
   "metadata": {},
   "source": [
    "Power series are a pretty interesting use of iterators. You can use them to form products, sums, derivatives and integrals, and most interestingly inverses."
   ]
  },
  {
   "cell_type": "code",
   "execution_count": 45,
   "metadata": {
    "collapsed": true
   },
   "outputs": [],
   "source": [
    "def seqprint(seq, length=10):\n",
    "    print(list(islice(seq,length)))"
   ]
  },
  {
   "cell_type": "code",
   "execution_count": 46,
   "metadata": {},
   "outputs": [
    {
     "name": "stdout",
     "output_type": "stream",
     "text": [
      "[1, 1, 1, 1, 1, 1, 1, 1, 1, 1]\n"
     ]
    }
   ],
   "source": [
    "seqprint(seq.repeat(1))"
   ]
  },
  {
   "cell_type": "markdown",
   "metadata": {},
   "source": [
    "http://www.cs.dartmouth.edu/~doug/powser.html\n"
   ]
  },
  {
   "cell_type": "code",
   "execution_count": null,
   "metadata": {
    "collapsed": true
   },
   "outputs": [],
   "source": [
    "import operator\n",
    "import itertools as seq\n",
    "class Powser():\n",
    "    def __init__(self,iterator):\n",
    "        self.iterator = iterator\n",
    "    def __add__(self, b):\n",
    "        return Powser(seq.imap(operator.add , self.iterator, b.iterator))\n",
    "    def __sub__(self, b):\n",
    "        return Powser(seq.imap(operator.sub , self.iterator, b.iterator))\n",
    "    def __mult__(self, b):\n",
    "        f = next(self.iterator)\n",
    "        fs = self.iterator\n",
    "        g = next(b.iterator)\n",
    "        gs = b.iterator\n",
    "        gt = seq.chain(g,gs)\n",
    "        c = seq.chain([f * g], fs * gt + seq.repeat(f) * gs)\n",
    "        return Powser(c)\n",
    "    def deriv(self):\n",
    "        next(self.iterator)\n",
    "        return Powser(seq.imap(operator.mult , seq.count(1), self.iterator))\n",
    "    "
   ]
  },
  {
   "cell_type": "code",
   "execution_count": 52,
   "metadata": {},
   "outputs": [
    {
     "data": {
      "text/plain": [
       "2"
      ]
     },
     "execution_count": 52,
     "metadata": {},
     "output_type": "execute_result"
    }
   ],
   "source": [
    "a = seq.count(1)\n",
    "next(a)\n",
    "next(a)"
   ]
  },
  {
   "cell_type": "code",
   "execution_count": 59,
   "metadata": {},
   "outputs": [],
   "source": [
    "'''\n",
    "x = (b - c * x) / a\n",
    "def x():\n",
    "    (b - c * x) / a\n",
    "def x0(f):\n",
    "    return (b - c * f) / a\n",
    "x = fix(x0)\n",
    "def fix(f):\n",
    "    return f(fix(f))\n",
    "'''\n",
    "def fix(f):\n",
    "    return lambda x: f(x, fix(f))\n",
    "fac = lambda n, f : (1 if n<2 else n*f(n-1))\n"
   ]
  },
  {
   "cell_type": "code",
   "execution_count": 61,
   "metadata": {},
   "outputs": [
    {
     "data": {
      "text/plain": [
       "120"
      ]
     },
     "execution_count": 61,
     "metadata": {},
     "output_type": "execute_result"
    }
   ],
   "source": [
    "fix(fac)(5)"
   ]
  },
  {
   "cell_type": "code",
   "execution_count": null,
   "metadata": {
    "collapsed": true
   },
   "outputs": [],
   "source": [
    "Powser(x)\n",
    "facct = lambda l: next(l)\n",
    "fix(f)"
   ]
  },
  {
   "cell_type": "markdown",
   "metadata": {},
   "source": [
    "This very naturally extends to Matrices.\n",
    "Suppose we have the equation\n",
    "$Ax+Bx=c$\n",
    "where $A$ is an easily invertible matrix\n",
    "Then we can form the same iterative equation, upping everything to Matrices and vectors\n",
    "$x_{n+1} = A^{-1} (c-Bx_{n})$\n",
    "In a sense, this is a way of formulating doing the original scalar perturbation for all of the eigenvalues of the system in parallel.\n"
   ]
  },
  {
   "cell_type": "code",
   "execution_count": 62,
   "metadata": {
    "collapsed": true
   },
   "outputs": [],
   "source": [
    "def linear_term_mat(a,b,c):\n",
    "    x = 0\n",
    "    while True:\n",
    "        yield x\n",
    "        x = np.linalg.solve(a,c - b@x)"
   ]
  },
  {
   "cell_type": "markdown",
   "metadata": {},
   "source": [
    "This generates the Born series."
   ]
  },
  {
   "cell_type": "code",
   "execution_count": null,
   "metadata": {
    "collapsed": true
   },
   "outputs": [],
   "source": [
    "def linear_term_mat(ainv,b,c):\n",
    "    x = 0\n",
    "    while True:\n",
    "        yield x\n",
    "        x = ainv@(c - b@x)"
   ]
  }
 ],
 "metadata": {
  "kernelspec": {
   "display_name": "Python 3",
   "language": "python",
   "name": "python3"
  },
  "language_info": {
   "codemirror_mode": {
    "name": "ipython",
    "version": 3
   },
   "file_extension": ".py",
   "mimetype": "text/x-python",
   "name": "python",
   "nbconvert_exporter": "python",
   "pygments_lexer": "ipython3",
   "version": "3.6.2"
  }
 },
 "nbformat": 4,
 "nbformat_minor": 2
}
