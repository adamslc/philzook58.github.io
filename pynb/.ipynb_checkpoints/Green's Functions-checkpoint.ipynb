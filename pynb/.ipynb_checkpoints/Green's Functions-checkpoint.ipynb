{
 "cells": [
  {
   "cell_type": "markdown",
   "metadata": {
    "deletable": true,
    "editable": true
   },
   "source": [
    "Green's Functions"
   ]
  },
  {
   "cell_type": "markdown",
   "metadata": {
    "deletable": true,
    "editable": true
   },
   "source": [
    "$\\nabla^2$ is the Laplacian. The one dimensional version of this is\n",
    "$\\frac{d^2}{dx^2}\\phi = 0$\n",
    "The kind of problems occur in electrostatics for example"
   ]
  },
  {
   "cell_type": "markdown",
   "metadata": {
    "deletable": true,
    "editable": true
   },
   "source": [
    "Problems with sources\n",
    "$\\frac{d^2}{dx^2}\\phi = \\rho$"
   ]
  },
  {
   "cell_type": "markdown",
   "metadata": {
    "deletable": true,
    "editable": true
   },
   "source": [
    "Problems with Parameters / Eigenvalue problems\n",
    "$(\\frac{d^2}{dx^2} -E)\\phi = 0$"
   ]
  },
  {
   "cell_type": "markdown",
   "metadata": {
    "collapsed": true,
    "deletable": true,
    "editable": true
   },
   "source": [
    "$\\frac{d^2}{dx^2}\\phi \\approx \\frac{\\phi(x+dx)-2\\phi(x)+\\phi(x-dx)}{dx^2}$"
   ]
  },
  {
   "cell_type": "markdown",
   "metadata": {},
   "source": [
    "The can be written in vector form as "
   ]
  },
  {
   "cell_type": "markdown",
   "metadata": {},
   "source": [
    "$\\frac{1}{dx^2}\\begin{bmatrix}\n",
    "           1 & -2 & 1 \n",
    "\\end{bmatrix}\n",
    "\\begin{bmatrix}\n",
    "           \\phi(x+dx) \\\\ \\phi(x) \\\\ \\phi(x-dx) \n",
    "\\end{bmatrix}$"
   ]
  },
  {
   "cell_type": "markdown",
   "metadata": {},
   "source": [
    "So if we sample the entire function on a grid of spacing $dx$ we can create a huge vector\n",
    "\n",
    "$\\begin{bmatrix} \\phi(0) \\\\ \\phi(dx) \\\\ \\phi(2dx) \\\\ \\phi(3dx) \\\\ \\phi(4dx) \\\\ \\vdots \\end{bmatrix}$\n",
    "\n",
    "Which then we can derive an approximation to the second difference via a matrix operation "
   ]
  },
  {
   "cell_type": "markdown",
   "metadata": {},
   "source": [
    "So when we want to solve $\\frac{d^2}{dx^2}\\phi = \\rho$, this can be written as a matrix equation $K\\phi = \\rho$ and the solution is given by $\\psi = K^{-1}\\rho$.\n",
    "We will call this matrix and it's continuous analog Green's functions. In the continuous limit, the matrix vector product becomes an integral.\n",
    "\n",
    "$K_{ij}\\rightarrow G(x,y)$\n",
    "\n",
    "$\\sum \\rightarrow \\int$"
   ]
  },
  {
   "cell_type": "markdown",
   "metadata": {},
   "source": [
    "Now, there is subtlety in the boundary conditions. It you construct the matrix, you'll find that it isn't clear what to do at the end. The natural second derivative matrix is in fact rectangular, and hence uninvertible. If we specify fo example that $\\phi(0)=0$ and $\\phi(L)=0$ we can just lop off the first and last column of the matrix, making it rectangular and invertible. It is this fact that makes the boundary conditions an ESSENTIAL part of the Green's Function. It does not make sense without them and different boundary conditions give different green's function"
   ]
  },
  {
   "cell_type": "markdown",
   "metadata": {},
   "source": [
    "An example where this equation shows up is for a stretched string in equilbium. If we place weight on the string, it pushes it down. These weights correpond to source terms."
   ]
  },
  {
   "cell_type": "markdown",
   "metadata": {},
   "source": [
    "Perturbation theory"
   ]
  },
  {
   "cell_type": "markdown",
   "metadata": {},
   "source": [
    "The simplest equation to solve that we can use perturbation theory on is $(a+b)x = c$. The answer, by the way, is $x = \\frac{c}{a+b}$ so there is absolutely no reason to throw perturbation theory at this one. But it is illuminating I think."
   ]
  },
  {
   "cell_type": "markdown",
   "metadata": {},
   "source": [
    "$x_{n+1} = \\frac{1}{a} (c-bx_{n})$"
   ]
  },
  {
   "cell_type": "markdown",
   "metadata": {},
   "source": [
    "$x = c(1- \\frac{b}{a} + (\\frac{b}{a})^2 - (\\frac{b}{a})^3 + \\dots)$"
   ]
  },
  {
   "cell_type": "code",
   "execution_count": null,
   "metadata": {
    "collapsed": true
   },
   "outputs": [],
   "source": []
  }
 ],
 "metadata": {
  "kernelspec": {
   "display_name": "Python 3",
   "language": "python",
   "name": "python3"
  },
  "language_info": {
   "codemirror_mode": {
    "name": "ipython",
    "version": 3
   },
   "file_extension": ".py",
   "mimetype": "text/x-python",
   "name": "python",
   "nbconvert_exporter": "python",
   "pygments_lexer": "ipython3",
   "version": "3.5.3"
  }
 },
 "nbformat": 4,
 "nbformat_minor": 2
}
