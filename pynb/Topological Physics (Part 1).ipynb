{
 "cells": [
  {
   "cell_type": "markdown",
   "metadata": {},
   "source": [
    "I bite off more than I can chew.\n",
    "Going back to basics means I can't talk about anything interesting before I get exhausted.\n",
    "\n",
    "Early topics:\n",
    "Berry Phase\n",
    "Chern Number\n",
    "\n",
    "\n",
    "\n",
    "Topics in Topological Physics:\n",
    "\n",
    "Anyons (This one has been a long time coming)\n",
    "Toric Code\n",
    "T-invariant TI\n",
    "Fractional Quantum Hall\n",
    "Thouless Pump\n",
    "\n",
    "\n"
   ]
  },
  {
   "cell_type": "code",
   "execution_count": 2,
   "metadata": {
    "collapsed": true
   },
   "outputs": [],
   "source": [
    "import numpy as np"
   ]
  },
  {
   "cell_type": "code",
   "execution_count": null,
   "metadata": {
    "collapsed": true
   },
   "outputs": [],
   "source": [
    "TAU = 0\n",
    "I = 1\n",
    "def Nabc(a,b,c):\n",
    "    if a == b == c == tau or a == b == c = I or a == b == TAU and c == I \n",
    "        return np.ones(1)\n",
    "    else\n",
    "        return np.ones(0)\n",
    "\n",
    "# The same a and b but different c live in the same space. Corresponds to direct sum over c.\n",
    "def vabc(a, b , c):\n",
    "    if a == b == c = TAU:\n",
    "        return np.array([0,1])\n",
    "    elif a == b == TAU and c == I:\n",
    "        return np.array([1,0])\n",
    "    elif a == b == c = I:\n",
    "        return np.ones(1)\n",
    "    else:\n",
    "        return np.zero(0)\n",
    "\n",
    "    \n",
    "def split(a,b,c, vabc):\n",
    "    vabc(a,b, c)"
   ]
  },
  {
   "cell_type": "markdown",
   "metadata": {},
   "source": [
    "To return a space is a type level operation\n",
    "type family Split A B = DSum (V A B C)"
   ]
  },
  {
   "cell_type": "code",
   "execution_count": null,
   "metadata": {
    "collapsed": true
   },
   "outputs": [],
   "source": [
    "(TAU,(I,I))\n",
    "buil"
   ]
  },
  {
   "cell_type": "code",
   "execution_count": null,
   "metadata": {
    "collapsed": true
   },
   "outputs": [],
   "source": [
    "def buildvec( tree ):\n",
    "    if leaf(tree):\n",
    "        return np.ones(1)\n",
    "    a = tree[0][1]\n",
    "    c = tree[1]\n",
    "    b = tree[2][1]\n",
    "    return np.kron(vabc(a,b,c), buildvec(tree[0], buildvec(tree[1]))\n",
    "            "
   ]
  }
 ],
 "metadata": {
  "kernelspec": {
   "display_name": "Python 3",
   "language": "python",
   "name": "python3"
  },
  "language_info": {
   "codemirror_mode": {
    "name": "ipython",
    "version": 3
   },
   "file_extension": ".py",
   "mimetype": "text/x-python",
   "name": "python",
   "nbconvert_exporter": "python",
   "pygments_lexer": "ipython3",
   "version": "3.6.3"
  }
 },
 "nbformat": 4,
 "nbformat_minor": 2
}
