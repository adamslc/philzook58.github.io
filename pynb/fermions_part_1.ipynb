{
 "cells": [
  {
   "cell_type": "markdown",
   "metadata": {},
   "source": [
    "This is the first article in a series about at least one way to encode many-body quantum mechanics in python (and eventually Haskell too maybe). Why even do this? I think that understanding in principle how to encode the problem concretely into a computer let's you have a deeper understanding of what the hell is going on.\n",
    "\n",
    "We're not winning any awards for speed or efficiency here. Intentionally. A low level formulation of all this in C using GPU acceleration or something would be significantly less understandble. Let us unshackle ourselves from too many considerations of efficiency."
   ]
  },
  {
   "cell_type": "code",
   "execution_count": 1,
   "metadata": {
    "collapsed": true
   },
   "outputs": [],
   "source": [
    "import numpy as np\n",
    "import matplotlib.pyplot as plt\n",
    "%matplotlib inline"
   ]
  },
  {
   "cell_type": "markdown",
   "metadata": {},
   "source": [
    "So to start, let's take a few moments to talk a very tiny bit about single body quantum mechanics. \n",
    "\n",
    "It is customary in solid state physics for the purposes of clarification to build simplified models of materials. One simplification is to say that electrons can exist on a lattice of sites with onsite energy $\\epsilon$ and tunneling energy $t$. This lattice ultimately corresponds back to the crystal lattice of actual atoms and these mystery parameters can be related back closer (but not entirely. There really are huge gaps of deduction in our understanding of the chain of physics from the most fundamental to the large) to first principles by considering the Hamiltonian matrix elements $<\\psi_m|H|\\psi_n>$ of orbital wavefunctions of the atoms. Parametrizing the simplified model this way lets us cut a Gordian knot of complexity. For more info check out https://en.wikipedia.org/wiki/Tight_binding.\n",
    "\n",
    "For simplicity, let's consider a periodic 1-d ring of sites. This is convenient programmatically and mathematically. We can then extend this to greater and greater realism by the inclusion of more realtstic boundaries or try to physically realize such 1-d models in reality using nanowires or other somewhat exotic things."
   ]
  },
  {
   "cell_type": "markdown",
   "metadata": {},
   "source": [
    "A wavefunction $\\psi$ with the particle sitting on the 0th site can be written like so"
   ]
  },
  {
   "cell_type": "code",
   "execution_count": 2,
   "metadata": {},
   "outputs": [
    {
     "name": "stdout",
     "output_type": "stream",
     "text": [
      "[ 1.  0.  0.  0.  0.  0.]\n"
     ]
    },
    {
     "data": {
      "text/plain": [
       "[<matplotlib.lines.Line2D at 0x7f8ccc0e86a0>]"
      ]
     },
     "execution_count": 2,
     "metadata": {},
     "output_type": "execute_result"
    },
    {
     "data": {
      "image/png": "[encoded data removed]",
      "text/plain": [
       "<matplotlib.figure.Figure at 0x7f8cc030e9b0>"
      ]
     },
     "metadata": {},
     "output_type": "display_data"
    }
   ],
   "source": [
    "NSites = 6\n",
    "psi = np.zeros(NSites)\n",
    "psi[0] = 1\n",
    "print(psi)\n",
    "plt.plot(psi)"
   ]
  },
  {
   "cell_type": "markdown",
   "metadata": {},
   "source": [
    "Now let's build the simple Hamiltonian as an explicit matrix acting on these wavefunctions. The Hamiltonian has the interpetation of giving the possible energies of the particle, but it is also useful as a way of thinking about where states go under time evolution. Any nonzero element $h_{ij}$ is a connection between site i and j. The tunneling element $t$ connects nearest neighbor sites.\n",
    "\n",
    "The periodic nature of the Hamiltonian makes it useful to use the circulant matrix construction function from scipy. "
   ]
  },
  {
   "cell_type": "code",
   "execution_count": 3,
   "metadata": {},
   "outputs": [
    {
     "name": "stdout",
     "output_type": "stream",
     "text": [
      "[[ 1.   0.5  0.   0.   0.   0.5]\n",
      " [ 0.5  1.   0.5  0.   0.   0. ]\n",
      " [ 0.   0.5  1.   0.5  0.   0. ]\n",
      " [ 0.   0.   0.5  1.   0.5  0. ]\n",
      " [ 0.   0.   0.   0.5  1.   0.5]\n",
      " [ 0.5  0.   0.   0.   0.5  1. ]]\n"
     ]
    }
   ],
   "source": [
    "from scipy.linalg import circulant\n",
    "\n",
    "eps = 1.0\n",
    "t = 0.5\n",
    "\n",
    "firstcol = np.zeros(NSites)\n",
    "firstcol[0] = eps\n",
    "firstcol[1] = t\n",
    "firstcol[-1] = t\n",
    "\n",
    "oneH = circulant(firstcol) #Takes first column and repeats it shifted\n",
    "print(oneH)"
   ]
  },
  {
   "cell_type": "markdown",
   "metadata": {},
   "source": [
    "It is then simple to ask for the energy (eigenvalues) levels of the matrix, or apply it to a wavefunction (which may be part of a single time step for example)."
   ]
  },
  {
   "cell_type": "code",
   "execution_count": 4,
   "metadata": {},
   "outputs": [
    {
     "name": "stdout",
     "output_type": "stream",
     "text": [
      "[ 1.-0.1j   0.-0.05j  0.+0.j    0.+0.j    0.+0.j    0.-0.05j]\n"
     ]
    },
    {
     "data": {
      "text/plain": [
       "[<matplotlib.lines.Line2D at 0x7f8cc17e3588>]"
      ]
     },
     "execution_count": 4,
     "metadata": {},
     "output_type": "execute_result"
    },
    {
     "data": {
      "image/png": "[encoded data removed]",
      "text/plain": [
       "<matplotlib.figure.Figure at 0x7f8cc17e3c50>"
      ]
     },
     "metadata": {},
     "output_type": "display_data"
    }
   ],
   "source": [
    "dt = 0.1 # a discretized time step dt.\n",
    "I = np.eye(NSites) #identity matrix\n",
    "psi1 = (I - 1.j * dt * oneH) @ psi #@ is python3 notation for matrix product. I like it.\n",
    "print(psi1)\n",
    "plt.plot(np.real(psi1))\n",
    "plt.plot(np.imag(psi1))"
   ]
  },
  {
   "cell_type": "markdown",
   "metadata": {},
   "source": [
    "After that, let's switch gears a bit.\n",
    "\n",
    "A first approach to many-body quantum mechanics is the occupation number representation. The states are labelled by a binary string, with 1s corresponding to filled states and 0s to empty states. For example the binary string 0b010001 would have a particle sitting on the 0th and the 4th site and empty everywhere else. Since you will need 1 bit per site, the total size of the vector space is $2^{\\# Sites}$. To label the states we'll need a couple of bit twiddling tricks.\n",
    "\n",
    "A common idiom for getting a bit string with the nth bit set is to bit shift a 1 over by n."
   ]
  },
  {
   "cell_type": "code",
   "execution_count": 5,
   "metadata": {},
   "outputs": [
    {
     "data": {
      "text/plain": [
       "'0b1000'"
      ]
     },
     "execution_count": 5,
     "metadata": {},
     "output_type": "execute_result"
    }
   ],
   "source": [
    "bin(1 << 3)"
   ]
  },
  {
   "cell_type": "markdown",
   "metadata": {},
   "source": [
    "You mix strings with the or operator |"
   ]
  },
  {
   "cell_type": "code",
   "execution_count": 6,
   "metadata": {},
   "outputs": [
    {
     "name": "stdout",
     "output_type": "stream",
     "text": [
      "0b11000\n"
     ]
    }
   ],
   "source": [
    "n = 1 << 3 | 1 << 4\n",
    "print(bin(n))"
   ]
  },
  {
   "cell_type": "markdown",
   "metadata": {},
   "source": [
    "One way to count the number of bits set to one (the total occupation number of the lattice) is to use the following pythony code."
   ]
  },
  {
   "cell_type": "code",
   "execution_count": 7,
   "metadata": {},
   "outputs": [
    {
     "data": {
      "text/plain": [
       "2"
      ]
     },
     "execution_count": 7,
     "metadata": {},
     "output_type": "execute_result"
    }
   ],
   "source": [
    "bin(n).count(\"1\")"
   ]
  },
  {
   "cell_type": "markdown",
   "metadata": {},
   "source": [
    "However it will be nice to use another method. The Wikipedia article for [Hamming Weight](https://en.wikipedia.org/wiki/Hamming_weight) (a name for the operation of counting 1s in a binary string) has this code for a 64-bit unsigned integers. This is slightly inflexible and worrisome, however 64 sites using the methodology we're using is totally impossible, so we might be okay. We'll need to be careful in the future to cast as uint64 or we'll get awful bugs unfortunately. This code vectorizes into numpy arrays."
   ]
  },
  {
   "cell_type": "code",
   "execution_count": 8,
   "metadata": {
    "collapsed": true
   },
   "outputs": [],
   "source": [
    "#from wikipedia article on hamming weight\n",
    "# works for 64 bits numbers\n",
    "\n",
    "m1  = 0x5555555555555555; #binary: 0101...\n",
    "m2  = 0x3333333333333333; #binary: 00110011..\n",
    "m4  = 0x0f0f0f0f0f0f0f0f; #binary:  4 zeros,  4 ones ...\n",
    "m8  = 0x00ff00ff00ff00ff; #binary:  8 zeros,  8 ones ...\n",
    "m16 = 0x0000ffff0000ffff; #binary: 16 zeros, 16 ones ...\n",
    "m32 = 0x00000000ffffffff; #binary: 32 zeros, 32 one\n",
    "hff = 0xffffffffffffffff; #binary: all ones\n",
    "h01 = 0x0101010101010101;\n",
    "def popcount64c(x):\n",
    "    x -= (x >> 1) & m1;             #put count of each 2 bits into those 2 bits\n",
    "    x = (x & m2) + ((x >> 2) & m2); #put count of each 4 bits into those 4 bits \n",
    "    x = (x + (x >> 4)) & m4;        #put count of each 8 bits into those 8 bits \n",
    "    return (x * h01) >> 56;  #returns left 8 bits of x + (x<<8) + (x<<16) + (x<<24) + ... \n"
   ]
  },
  {
   "cell_type": "markdown",
   "metadata": {},
   "source": [
    "Since 0 corresponds to the bit string 0b000000, this is the completely empty state, which we may call the vacuum. We need to set the amplitude of this index to 1.0 so that it accounts for the total quantum amplitude of being empty."
   ]
  },
  {
   "cell_type": "code",
   "execution_count": 9,
   "metadata": {
    "collapsed": true
   },
   "outputs": [],
   "source": [
    "NSites = 6\n",
    "NStates = 2 ** NSites\n",
    "\n",
    "def vac(NStates):\n",
    "    state = np.zeros(NStates)\n",
    "    state[0] = 1.0\n",
    "    return state"
   ]
  },
  {
   "cell_type": "markdown",
   "metadata": {},
   "source": [
    "Now we get to the meat. How do we implement fermionic creation and annihilation operators commonly denoted $a_j^\\dagger$ and $a_j$. The operators when applied to a state fill (create a particle) at an empty spot at site $j$, or empty it (annihilate the particle).\n",
    "There is some truly funky business with fermions that we have to anticommute these operators. This is part of the mathematical origin of the Pauli Exclusion principle and has some relation to determinants, which we will see an aspect of later. Don't get me wrong. These minus signs are weird.\n",
    "To account for them, we pick a canonical ordering for the creation operators, in our case in descending order, for example $a_6^\\dagger a_3^\\dagger a_0^\\dagger |0>$. We only need anti-commute sufficiently to get an operator into it's canonical position in the expression representing the state for example $a_3^\\dagger a_6^\\dagger a_5^\\dagger a_4^\\dagger a_0^\\dagger |0> = - a_6^\\dagger a_5^\\dagger a_4^\\dagger a_3^\\dagger a_0^\\dagger |0> $. \n",
    "It's complicated and it took me a couple tries to get the binary version of this right.\n",
    "\n",
    "reshapeSite is a convenience function for reshaping the state vector so that the middle index is now specifying the filled or unfilled nature of site n."
   ]
  },
  {
   "cell_type": "code",
   "execution_count": 10,
   "metadata": {
    "collapsed": true
   },
   "outputs": [],
   "source": [
    "\n",
    "def reshapeSite(site, state):\n",
    "    #returns state reshaped as (leftstatechanges(msb), occupy/unoccupied, rightstatechanges(lsb))\n",
    "    return state.reshape((-1, 2,2**site))\n",
    "\n",
    "def adag(site, state, copy=True):\n",
    "    if copy:\n",
    "        state = np.copy(state)\n",
    "    state = reshapeSite(site,state)\n",
    "    state[:,1,:] = state[:,0,:] \n",
    "    state[:,0,:] = 0\n",
    "    state = state.flatten()\n",
    "    return antiCommuteFactor(site,state)\n",
    "\n",
    "    \n",
    "\n",
    "\n",
    "\n"
   ]
  },
  {
   "cell_type": "markdown",
   "metadata": {},
   "source": [
    "We haven't yet seen how to implement the anticommuting factor. This is where we need the Hamming weight function. We need to count the number of occupied states the the left of the particle (bits that are more significant than bit n). This is the number of adag operators we need to anticommute through to put the state into canonical ordering. "
   ]
  },
  {
   "cell_type": "code",
   "execution_count": 11,
   "metadata": {
    "collapsed": true
   },
   "outputs": [],
   "source": [
    "\n",
    "def antiCommuteFactor(site, state):\n",
    "    indices = np.arange(state.size, dtype=np.uint64)\n",
    "    rightBinary = indices >> site + 1 # shift out all the bits to the right\n",
    "    isOdd = popcount64c(rightBinary) & 0x1\n",
    "    return np.where(isOdd, -1, 1) * state"
   ]
  },
  {
   "cell_type": "markdown",
   "metadata": {},
   "source": [
    "I don't want to use a bare 'a' for the annihilation operator. I used agad. So sue me. Otherwise it is very similar to adag. "
   ]
  },
  {
   "cell_type": "code",
   "execution_count": 12,
   "metadata": {
    "collapsed": true
   },
   "outputs": [],
   "source": [
    "def agad(site, state, copy=True):\n",
    "    if copy:\n",
    "        state = np.copy(state)\n",
    "    state = reshapeSite(site,state)\n",
    "    state[:,0,:] = state[:,1,:] #turns 1 into a zero\n",
    "    state[:,1,:] = 0 #nothing comes into the occupied state\n",
    "    state = state.flatten()\n",
    "    return antiCommuteFactor(site,state)\n"
   ]
  },
  {
   "cell_type": "markdown",
   "metadata": {},
   "source": [
    "Some other useful routines. A pretty printer avoids printing a bunch of zeros and puts it in bra ket notation."
   ]
  },
  {
   "cell_type": "code",
   "execution_count": 13,
   "metadata": {
    "collapsed": true
   },
   "outputs": [],
   "source": [
    "def Num(site, state, copy=True):\n",
    "    if copy:\n",
    "        state = np.copy(state)\n",
    "    state = reshapeSite(site,state)\n",
    "    state[:,0,:] = 0 #zero out if unoccupied\n",
    "    return state.flatten()\n",
    "\n",
    "def prettyPrint(state,nsites):\n",
    "    #avoids printing nearly zero, and puts in ket notation\n",
    "    returnstr = \"\"\n",
    "    for index,amp in enumerate(state):\n",
    "        if abs(amp) > 0.001:\n",
    "            returnstr += str(amp) + \" * |\" + bin(index)[2:].zfill(nsites) + \"> + \"\n",
    "    return returnstr + \"0\""
   ]
  },
  {
   "cell_type": "markdown",
   "metadata": {},
   "source": [
    "Here we can see that alternate orderings of applying the operators give opposite signs out front."
   ]
  },
  {
   "cell_type": "code",
   "execution_count": 14,
   "metadata": {},
   "outputs": [
    {
     "name": "stdout",
     "output_type": "stream",
     "text": [
      "1.0 * |000011> + 0\n",
      "-1.0 * |000011> + 0\n"
     ]
    }
   ],
   "source": [
    "state1 = adag(1,adag(0, vac(NStates)))\n",
    "state2 = adag(0,adag(1, vac(NStates)))\n",
    "print(prettyPrint(state1, NSites))\n",
    "print(prettyPrint(state2, NSites))"
   ]
  },
  {
   "cell_type": "markdown",
   "metadata": {},
   "source": [
    "Now using these operators we could implement the application of a Hamiltonian fairly easily. We use the second quantized formulation of the single site Hamiltonian. The sum does it very every possible site."
   ]
  },
  {
   "cell_type": "code",
   "execution_count": 15,
   "metadata": {
    "collapsed": true
   },
   "outputs": [],
   "source": [
    "def singleSiteH(i, state):\n",
    "    eps = 1.0\n",
    "    t = 0.5\n",
    "    left = (i+1) % NSites #modulo NSites to make periodic\n",
    "    return      eps * Num(i,state) + \\\n",
    "                t * adag(left, agad(i,state)) + \\\n",
    "                t * adag(i, agad(left,state))\n",
    "    \n",
    "\n",
    "def H0(state):\n",
    "    return sum([singleSiteH(i,state) for i in range(NSites)])\n",
    "        \n",
    "        "
   ]
  },
  {
   "cell_type": "markdown",
   "metadata": {},
   "source": [
    "Here we can compare the new way of applying H to the way at the beginning."
   ]
  },
  {
   "cell_type": "code",
   "execution_count": 16,
   "metadata": {},
   "outputs": [
    {
     "name": "stdout",
     "output_type": "stream",
     "text": [
      "1.0 * |000001> + 0.5 * |000010> + 0.5 * |100000> + 0\n",
      "[ 1.   0.5  0.   0.   0.   0.5]\n"
     ]
    }
   ],
   "source": [
    "state = adag(0,vac(NStates))\n",
    "print(prettyPrint((H0(state)), NSites))\n",
    "print(oneH @ psi)"
   ]
  },
  {
   "cell_type": "markdown",
   "metadata": {},
   "source": [
    "It is now possible to consider the interparticle interactions thought. This is something really new. We can unpack the binary string to a list of positions where it has a 1."
   ]
  },
  {
   "cell_type": "code",
   "execution_count": 17,
   "metadata": {
    "collapsed": true
   },
   "outputs": [],
   "source": [
    "def binaryToPositionList(occupation):\n",
    "    pos = []\n",
    "    for site in range(NSites):\n",
    "        if (occupation >> site) & 0x1:\n",
    "            pos.append(site)\n",
    "            \n",
    "    return pos"
   ]
  },
  {
   "cell_type": "markdown",
   "metadata": {},
   "source": [
    "Given this position list it is striaghtforward to compute the energy of that configuration using a Coulomb $\\frac{1}{r}$ potential for example."
   ]
  },
  {
   "cell_type": "code",
   "execution_count": 18,
   "metadata": {
    "collapsed": true
   },
   "outputs": [],
   "source": [
    "def V(poslist):\n",
    "    U = 0\n",
    "    for i, pos1 in enumerate(poslist):\n",
    "        for j in range(i):\n",
    "            U += 1.0 / abs(pos1 - poslist[j])\n",
    "    return U"
   ]
  },
  {
   "cell_type": "markdown",
   "metadata": {},
   "source": [
    "In the occupation representation the potential V is actually a diagonal operator. This means we can use element wise multiplication to apply it."
   ]
  },
  {
   "cell_type": "code",
   "execution_count": 19,
   "metadata": {
    "collapsed": true
   },
   "outputs": [],
   "source": [
    "def applyV(state):\n",
    "     return np.array([V(binaryToPositionList(occ)) for occ in range(NStates)]) * state"
   ]
  },
  {
   "cell_type": "markdown",
   "metadata": {},
   "source": [
    "We can try it out. Indeed the two particles have energy $\\frac{1}{4}$"
   ]
  },
  {
   "cell_type": "code",
   "execution_count": 24,
   "metadata": {},
   "outputs": [
    {
     "data": {
      "text/plain": [
       "'0.25 * |010001> + 0'"
      ]
     },
     "execution_count": 24,
     "metadata": {},
     "output_type": "execute_result"
    }
   ],
   "source": [
    "state = adag(4, adag(0,vac(NStates)))\n",
    "prettyPrint(applyV(state), NSites)"
   ]
  },
  {
   "cell_type": "markdown",
   "metadata": {},
   "source": [
    "The total Hamiltonian is the sum of the single particle part and the interaction"
   ]
  },
  {
   "cell_type": "code",
   "execution_count": 22,
   "metadata": {
    "collapsed": true
   },
   "outputs": [],
   "source": [
    "def H(state):\n",
    "    return H0(state) + applyV(state)"
   ]
  },
  {
   "cell_type": "code",
   "execution_count": 23,
   "metadata": {},
   "outputs": [
    {
     "data": {
      "text/plain": [
       "'0.5 * |000101> + 2.83333333333 * |001001> + 0.5 * |001010> + 2.75 * |010001> + 0.5 * |010010> + 0.5 * |100001> + -0.5 * |101000> + -0.5 * |110000> + 0'"
      ]
     },
     "execution_count": 23,
     "metadata": {},
     "output_type": "execute_result"
    }
   ],
   "source": [
    "prettyPrint(H(state), NSites)"
   ]
  },
  {
   "cell_type": "markdown",
   "metadata": {},
   "source": [
    "There we go. That's a watershed moment!"
   ]
  },
  {
   "cell_type": "markdown",
   "metadata": {},
   "source": [
    "Now, we've only given ourselves the power to apply linear operators. True dense representation of the matrices would allow us to ask for inverse and eigenvalues and things.\n",
    "But we can also approach perturbation theory which is designed to use only easy operations like multiplication. We'll examine that in the next part."
   ]
  }
 ],
 "metadata": {
  "kernelspec": {
   "display_name": "Python 3",
   "language": "python",
   "name": "python3"
  },
  "language_info": {
   "codemirror_mode": {
    "name": "ipython",
    "version": 3
   },
   "file_extension": ".py",
   "mimetype": "text/x-python",
   "name": "python",
   "nbconvert_exporter": "python",
   "pygments_lexer": "ipython3",
   "version": "3.6.3"
  }
 },
 "nbformat": 4,
 "nbformat_minor": 2
}
